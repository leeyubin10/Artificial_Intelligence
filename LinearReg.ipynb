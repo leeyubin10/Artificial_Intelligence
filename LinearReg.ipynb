{
  "nbformat": 4,
  "nbformat_minor": 0,
  "metadata": {
    "colab": {
      "provenance": []
    },
    "kernelspec": {
      "name": "python3",
      "display_name": "Python 3"
    },
    "language_info": {
      "name": "python"
    },
    "accelerator": "GPU"
  },
  "cells": [
    {
      "cell_type": "code",
      "execution_count": 1,
      "metadata": {
        "colab": {
          "base_uri": "https://localhost:8080/"
        },
        "id": "xi1GmT00SZfD",
        "outputId": "805cd95f-42ca-42a0-c694-83d49f961715"
      },
      "outputs": [
        {
          "output_type": "stream",
          "name": "stdout",
          "text": [
            "Found existing installation: tensorflow 2.9.2\n",
            "Uninstalling tensorflow-2.9.2:\n",
            "  Would remove:\n",
            "    /usr/local/bin/estimator_ckpt_converter\n",
            "    /usr/local/bin/import_pb_to_tensorboard\n",
            "    /usr/local/bin/saved_model_cli\n",
            "    /usr/local/bin/tensorboard\n",
            "    /usr/local/bin/tf_upgrade_v2\n",
            "    /usr/local/bin/tflite_convert\n",
            "    /usr/local/bin/toco\n",
            "    /usr/local/bin/toco_from_protos\n",
            "    /usr/local/lib/python3.7/dist-packages/tensorflow-2.9.2.dist-info/*\n",
            "    /usr/local/lib/python3.7/dist-packages/tensorflow/*\n",
            "Proceed (y/n)? y\n",
            "  Successfully uninstalled tensorflow-2.9.2\n",
            "Looking in indexes: https://pypi.org/simple, https://us-python.pkg.dev/colab-wheels/public/simple/\n",
            "Collecting tensorflow==1.15\n",
            "  Downloading tensorflow-1.15.0-cp37-cp37m-manylinux2010_x86_64.whl (412.3 MB)\n",
            "\u001b[K     |████████████████████████████████| 412.3 MB 25 kB/s \n",
            "\u001b[?25hRequirement already satisfied: wrapt>=1.11.1 in /usr/local/lib/python3.7/dist-packages (from tensorflow==1.15) (1.14.1)\n",
            "Collecting gast==0.2.2\n",
            "  Downloading gast-0.2.2.tar.gz (10 kB)\n",
            "Requirement already satisfied: astor>=0.6.0 in /usr/local/lib/python3.7/dist-packages (from tensorflow==1.15) (0.8.1)\n",
            "Collecting tensorboard<1.16.0,>=1.15.0\n",
            "  Downloading tensorboard-1.15.0-py3-none-any.whl (3.8 MB)\n",
            "\u001b[K     |████████████████████████████████| 3.8 MB 48.8 MB/s \n",
            "\u001b[?25hRequirement already satisfied: wheel>=0.26 in /usr/local/lib/python3.7/dist-packages (from tensorflow==1.15) (0.37.1)\n",
            "Requirement already satisfied: six>=1.10.0 in /usr/local/lib/python3.7/dist-packages (from tensorflow==1.15) (1.15.0)\n",
            "Requirement already satisfied: numpy<2.0,>=1.16.0 in /usr/local/lib/python3.7/dist-packages (from tensorflow==1.15) (1.21.6)\n",
            "Requirement already satisfied: protobuf>=3.6.1 in /usr/local/lib/python3.7/dist-packages (from tensorflow==1.15) (3.17.3)\n",
            "Requirement already satisfied: opt-einsum>=2.3.2 in /usr/local/lib/python3.7/dist-packages (from tensorflow==1.15) (3.3.0)\n",
            "Requirement already satisfied: grpcio>=1.8.6 in /usr/local/lib/python3.7/dist-packages (from tensorflow==1.15) (1.49.1)\n",
            "Collecting keras-applications>=1.0.8\n",
            "  Downloading Keras_Applications-1.0.8-py3-none-any.whl (50 kB)\n",
            "\u001b[K     |████████████████████████████████| 50 kB 8.7 MB/s \n",
            "\u001b[?25hRequirement already satisfied: absl-py>=0.7.0 in /usr/local/lib/python3.7/dist-packages (from tensorflow==1.15) (1.2.0)\n",
            "Collecting tensorflow-estimator==1.15.1\n",
            "  Downloading tensorflow_estimator-1.15.1-py2.py3-none-any.whl (503 kB)\n",
            "\u001b[K     |████████████████████████████████| 503 kB 71.3 MB/s \n",
            "\u001b[?25hRequirement already satisfied: google-pasta>=0.1.6 in /usr/local/lib/python3.7/dist-packages (from tensorflow==1.15) (0.2.0)\n",
            "Requirement already satisfied: keras-preprocessing>=1.0.5 in /usr/local/lib/python3.7/dist-packages (from tensorflow==1.15) (1.1.2)\n",
            "Requirement already satisfied: termcolor>=1.1.0 in /usr/local/lib/python3.7/dist-packages (from tensorflow==1.15) (2.0.1)\n",
            "Requirement already satisfied: h5py in /usr/local/lib/python3.7/dist-packages (from keras-applications>=1.0.8->tensorflow==1.15) (3.1.0)\n",
            "Requirement already satisfied: setuptools>=41.0.0 in /usr/local/lib/python3.7/dist-packages (from tensorboard<1.16.0,>=1.15.0->tensorflow==1.15) (57.4.0)\n",
            "Requirement already satisfied: markdown>=2.6.8 in /usr/local/lib/python3.7/dist-packages (from tensorboard<1.16.0,>=1.15.0->tensorflow==1.15) (3.4.1)\n",
            "Requirement already satisfied: werkzeug>=0.11.15 in /usr/local/lib/python3.7/dist-packages (from tensorboard<1.16.0,>=1.15.0->tensorflow==1.15) (1.0.1)\n",
            "Requirement already satisfied: importlib-metadata>=4.4 in /usr/local/lib/python3.7/dist-packages (from markdown>=2.6.8->tensorboard<1.16.0,>=1.15.0->tensorflow==1.15) (5.0.0)\n",
            "Requirement already satisfied: typing-extensions>=3.6.4 in /usr/local/lib/python3.7/dist-packages (from importlib-metadata>=4.4->markdown>=2.6.8->tensorboard<1.16.0,>=1.15.0->tensorflow==1.15) (4.1.1)\n",
            "Requirement already satisfied: zipp>=0.5 in /usr/local/lib/python3.7/dist-packages (from importlib-metadata>=4.4->markdown>=2.6.8->tensorboard<1.16.0,>=1.15.0->tensorflow==1.15) (3.9.0)\n",
            "Requirement already satisfied: cached-property in /usr/local/lib/python3.7/dist-packages (from h5py->keras-applications>=1.0.8->tensorflow==1.15) (1.5.2)\n",
            "Building wheels for collected packages: gast\n",
            "  Building wheel for gast (setup.py) ... \u001b[?25l\u001b[?25hdone\n",
            "  Created wheel for gast: filename=gast-0.2.2-py3-none-any.whl size=7554 sha256=13255da02ae18a2db0f0a97cc02c0f53d77f51e491b780f1ca906b200acc1669\n",
            "  Stored in directory: /root/.cache/pip/wheels/21/7f/02/420f32a803f7d0967b48dd823da3f558c5166991bfd204eef3\n",
            "Successfully built gast\n",
            "Installing collected packages: tensorflow-estimator, tensorboard, keras-applications, gast, tensorflow\n",
            "  Attempting uninstall: tensorflow-estimator\n",
            "    Found existing installation: tensorflow-estimator 2.9.0\n",
            "    Uninstalling tensorflow-estimator-2.9.0:\n",
            "      Successfully uninstalled tensorflow-estimator-2.9.0\n",
            "  Attempting uninstall: tensorboard\n",
            "    Found existing installation: tensorboard 2.9.1\n",
            "    Uninstalling tensorboard-2.9.1:\n",
            "      Successfully uninstalled tensorboard-2.9.1\n",
            "  Attempting uninstall: gast\n",
            "    Found existing installation: gast 0.4.0\n",
            "    Uninstalling gast-0.4.0:\n",
            "      Successfully uninstalled gast-0.4.0\n",
            "\u001b[31mERROR: pip's dependency resolver does not currently take into account all the packages that are installed. This behaviour is the source of the following dependency conflicts.\n",
            "tensorflow-probability 0.16.0 requires gast>=0.3.2, but you have gast 0.2.2 which is incompatible.\n",
            "kapre 0.3.7 requires tensorflow>=2.0.0, but you have tensorflow 1.15.0 which is incompatible.\u001b[0m\n",
            "Successfully installed gast-0.2.2 keras-applications-1.0.8 tensorboard-1.15.0 tensorflow-1.15.0 tensorflow-estimator-1.15.1\n"
          ]
        }
      ],
      "source": [
        "!pip uninstall tensorflow\n",
        "!pip install tensorflow==1.15"
      ]
    },
    {
      "cell_type": "code",
      "source": [
        "import tensorflow as tf\n",
        "print(tf.__version__)"
      ],
      "metadata": {
        "colab": {
          "base_uri": "https://localhost:8080/"
        },
        "id": "_YqdJRqoTLxI",
        "outputId": "ce4cad35-8cb5-45fe-8263-852b7c8305ed"
      },
      "execution_count": 2,
      "outputs": [
        {
          "output_type": "stream",
          "name": "stdout",
          "text": [
            "1.15.0\n"
          ]
        }
      ]
    },
    {
      "cell_type": "code",
      "source": [
        "x_data = [1.50, 1.52, 1.54, 1.56, 1.58, 1.60, 1.62, 1.64, 1.66, 1.68, 1.70, 1.72, 1.74, 1.76, 1.78, 1.80, 1.82, 1.84, 1.86, 1.88]\n",
        "y_data = [40, 42, 44, 46, 48, 50, 52, 54, 56, 58, 60, 62, 64, 66, 68, 70, 72, 74, 76, 78]"
      ],
      "metadata": {
        "id": "YxYCAoL9TQPq"
      },
      "execution_count": 3,
      "outputs": []
    },
    {
      "cell_type": "code",
      "source": [
        "W = tf.Variable(tf.random_uniform([1], -1.0, 1.0))\n",
        "b = tf.Variable(tf.random_uniform([1], -1.0, 1.0))"
      ],
      "metadata": {
        "id": "M9fYbAXBT-wc"
      },
      "execution_count": 5,
      "outputs": []
    },
    {
      "cell_type": "code",
      "source": [
        "X = tf.placeholder(tf.float32, name=\"X\")\n",
        "Y = tf.placeholder(tf.float32, name=\"Y\")"
      ],
      "metadata": {
        "id": "DGq1AEKGUBAo"
      },
      "execution_count": 6,
      "outputs": []
    },
    {
      "cell_type": "code",
      "source": [
        "hypothesis = W * X + b"
      ],
      "metadata": {
        "id": "UcpXsLrDUDWY"
      },
      "execution_count": 7,
      "outputs": []
    },
    {
      "cell_type": "code",
      "source": [
        "cost = tf.reduce_mean(tf.square(hypothesis - Y))"
      ],
      "metadata": {
        "id": "WuaSNdrqUFjZ"
      },
      "execution_count": 8,
      "outputs": []
    },
    {
      "cell_type": "code",
      "source": [
        "optimizer = tf.train.GradientDescentOptimizer(learning_rate=0.25)\n",
        "train_op = optimizer.minimize(cost)"
      ],
      "metadata": {
        "id": "w9R9YVEnUHxO"
      },
      "execution_count": 26,
      "outputs": []
    },
    {
      "cell_type": "code",
      "source": [
        "with tf.Session() as sess :\n",
        "    sess.run(tf.global_variables_initializer())\n",
        "\n",
        "    for step in range(100):\n",
        "      _, cost_val = sess.run([train_op, cost], feed_dict={X: x_data, Y: y_data})\n",
        "      print(step, cost_val, sess.run(W), sess.run(b))\n",
        "\n",
        "    print(\"\\n===Test===\")\n",
        "    print(\"X: 163, Y:\", sess.run(hypothesis, feed_dict={X: 1.63}))\n",
        "    print(\"X: 175, Y:\", sess.run(hypothesis, feed_dict={X: 1.78}))"
      ],
      "metadata": {
        "colab": {
          "base_uri": "https://localhost:8080/"
        },
        "id": "XGh3BRfQUJ-2",
        "outputId": "8672bda6-0be6-486b-f5f7-740c630cabd0"
      },
      "execution_count": 27,
      "outputs": [
        {
          "output_type": "stream",
          "name": "stdout",
          "text": [
            "0 3630.6523 [50.924698] [28.949587]\n",
            "1 3169.412 [3.920639] [0.9434223]\n",
            "2 2767.892 [48.018505] [26.658772]\n",
            "3 2418.3582 [7.1196938] [2.253748]\n",
            "4 2114.0747 [45.520653] [24.610731]\n",
            "5 1849.18 [9.936104] [3.3404121]\n",
            "6 1618.5713 [43.378128] [22.774199]\n",
            "7 1417.8068 [12.419327] [4.23258]\n",
            "8 1243.0205 [41.54479] [21.121958]\n",
            "9 1090.8464 [14.612427] [4.955633]\n",
            "10 958.3561 [39.98047] [19.630316]\n",
            "11 842.9994 [16.552872] [5.53166]\n",
            "12 742.5568 [38.650215] [18.278654]\n",
            "13 655.0963 [18.273287] [5.9798946]\n",
            "14 578.9362 [37.52359] [17.049019]\n",
            "15 512.6123 [19.802074] [6.3170757]\n",
            "16 454.8509 [36.57411] [15.925785]\n",
            "17 404.54254 [21.163948] [6.5577707]\n",
            "18 360.72202 [35.778717] [14.8953495]\n",
            "19 322.54895 [22.38042] [6.7146597]\n",
            "20 289.29166 [35.117344] [13.945874]\n",
            "21 260.31354 [23.470226] [6.7987804]\n",
            "22 235.06026 [34.572525] [13.067049]\n",
            "23 213.04947 [24.449669] [6.819741]\n",
            "24 193.86098 [34.12905] [12.249901]\n",
            "25 177.12956 [25.332937] [6.7859025]\n",
            "26 162.5367 [33.77368] [11.486618]\n",
            "27 149.80557 [26.13239] [6.7045484]\n",
            "28 138.69522 [33.494907] [10.770406]\n",
            "29 128.9957 [26.85877] [6.5820055]\n",
            "30 120.52434 [33.2827] [10.095343]\n",
            "31 113.12211 [27.521446] [6.42379]\n",
            "32 106.65059 [33.128326] [9.456273]\n",
            "33 100.9893 [28.128565] [6.2347]\n",
            "34 96.03344 [33.024193] [8.848713]\n",
            "35 91.69164 [28.687222] [6.0189137]\n",
            "36 87.88445 [32.963684] [8.268755]\n",
            "37 84.542755 [29.203588] [5.7800646]\n",
            "38 81.60631 [32.941048] [7.7130003]\n",
            "39 79.022766 [29.68304] [5.5213146]\n",
            "40 76.74641 [32.95127] [7.1784883]\n",
            "41 74.737595 [30.13026] [5.2454195]\n",
            "42 72.96173 [32.989998] [6.66264]\n",
            "43 71.38877 [30.549316] [4.954772]\n",
            "44 69.9925 [33.05343] [6.1632133]\n",
            "45 68.7501 [30.94376] [4.6514597]\n",
            "46 67.641785 [33.138264] [5.678253]\n",
            "47 66.65022 [31.316671] [4.3372936]\n",
            "48 65.76043 [33.24163] [5.2060595]\n",
            "49 64.95927 [31.670744] [4.013852]\n",
            "50 64.23537 [33.361023] [4.7451477]\n",
            "51 63.57882 [32.008316] [3.68251]\n",
            "52 62.98095 [33.494263] [4.2942276]\n",
            "53 62.434288 [32.33142] [3.344462]\n",
            "54 61.932293 [33.63946] [3.8521795]\n",
            "55 61.469257 [32.641834] [3.0007446]\n",
            "56 61.040215 [33.794968] [3.4180226]\n",
            "57 60.640846 [32.941097] [2.6522636]\n",
            "58 60.267433 [33.959343] [2.9909048]\n",
            "59 59.916668 [33.23056] [2.2998073]\n",
            "60 59.585686 [34.131336] [2.5700798]\n",
            "61 59.272057 [33.51139] [1.9440609]\n",
            "62 58.973595 [34.309868] [2.1549053]\n",
            "63 58.688435 [33.784607] [1.5856144]\n",
            "64 58.414925 [34.493988] [1.744815]\n",
            "65 58.15169 [34.051094] [1.2249876]\n",
            "66 57.8974 [34.682877] [1.3393195]\n",
            "67 57.651085 [34.311626] [0.86262846]\n",
            "68 57.41172 [34.875816] [0.93798983]\n",
            "69 57.178505 [34.566883] [0.4989308]\n",
            "70 56.950745 [35.072178] [0.54044867]\n",
            "71 56.727806 [34.817444] [0.13423431]\n",
            "72 56.509193 [35.27143] [0.14637685]\n",
            "73 56.294342 [35.06382] [-0.2311709]\n",
            "74 56.08291 [35.4731] [-0.24451339]\n",
            "75 55.874535 [35.306458] [-0.5970244]\n",
            "76 55.668907 [35.67677] [-0.63246936]\n",
            "77 55.46573 [35.545746] [-0.96310467]\n",
            "78 55.264782 [35.882088] [-1.0177078]\n",
            "79 55.065865 [35.78202] [-1.329218]\n",
            "80 54.868786 [36.088745] [-1.4004157]\n",
            "81 54.67339 [36.015575] [-1.6951971]\n",
            "82 54.479565 [36.29647] [-1.7807591]\n",
            "83 54.287178 [36.246666] [-2.0608978]\n",
            "84 54.09609 [36.50503] [-2.1588817]\n",
            "85 53.90624 [36.475517] [-2.4261923]\n",
            "86 53.71756 [36.714226] [-2.5349078]\n",
            "87 53.529957 [36.702324] [-2.7909746]\n",
            "88 53.343414 [36.923874] [-2.908951]\n",
            "89 53.1578 [36.927254] [-3.1551492]\n",
            "90 52.973152 [37.133823] [-3.2811046]\n",
            "91 52.78936 [37.15046] [-3.518633]\n",
            "92 52.606403 [37.34394] [-3.6514547]\n",
            "93 52.424294 [37.372066] [-3.8813577]\n",
            "94 52.24299 [37.55411] [-4.020075]\n",
            "95 52.06244 [37.59219] [-4.2432623]\n",
            "96 51.882652 [37.764233] [-4.3870306]\n",
            "97 51.703575 [37.81093] [-4.604291]\n",
            "98 51.52522 [37.974216] [-4.7523804]\n",
            "99 51.347557 [38.02837] [-4.9644027]\n",
            "\n",
            "===Test===\n",
            "X: 163, Y: [57.021843]\n",
            "X: 175, Y: [62.726097]\n"
          ]
        }
      ]
    }
  ]
}