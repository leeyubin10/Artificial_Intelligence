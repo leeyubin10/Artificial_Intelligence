{
 "cells": [
  {
   "cell_type": "markdown",
   "metadata": {},
   "source": [
    "# encoder, decoder 각각 1개의 layer 추가\n",
    "## encoder layer, 중앙 hidden layer, decoder layer에서 각각 256, 128, 256개의 노드 수를 갖는 모델"
   ]
  },
  {
   "cell_type": "code",
   "execution_count": 1,
   "metadata": {},
   "outputs": [
    {
     "name": "stdout",
     "output_type": "stream",
     "text": [
      "WARNING:tensorflow:From <ipython-input-1-c921649bd1ac>:6: read_data_sets (from tensorflow.contrib.learn.python.learn.datasets.mnist) is deprecated and will be removed in a future version.\n",
      "Instructions for updating:\n",
      "Please use alternatives such as official/mnist/dataset.py from tensorflow/models.\n",
      "WARNING:tensorflow:From C:\\ProgramData\\Anaconda3\\lib\\site-packages\\tensorflow_core\\contrib\\learn\\python\\learn\\datasets\\mnist.py:260: maybe_download (from tensorflow.contrib.learn.python.learn.datasets.base) is deprecated and will be removed in a future version.\n",
      "Instructions for updating:\n",
      "Please write your own downloading logic.\n",
      "WARNING:tensorflow:From C:\\ProgramData\\Anaconda3\\lib\\site-packages\\tensorflow_core\\contrib\\learn\\python\\learn\\datasets\\mnist.py:262: extract_images (from tensorflow.contrib.learn.python.learn.datasets.mnist) is deprecated and will be removed in a future version.\n",
      "Instructions for updating:\n",
      "Please use tf.data to implement this functionality.\n",
      "Extracting MNIST_data/train-images-idx3-ubyte.gz\n",
      "WARNING:tensorflow:From C:\\ProgramData\\Anaconda3\\lib\\site-packages\\tensorflow_core\\contrib\\learn\\python\\learn\\datasets\\mnist.py:267: extract_labels (from tensorflow.contrib.learn.python.learn.datasets.mnist) is deprecated and will be removed in a future version.\n",
      "Instructions for updating:\n",
      "Please use tf.data to implement this functionality.\n",
      "Extracting MNIST_data/train-labels-idx1-ubyte.gz\n",
      "WARNING:tensorflow:From C:\\ProgramData\\Anaconda3\\lib\\site-packages\\tensorflow_core\\contrib\\learn\\python\\learn\\datasets\\mnist.py:110: dense_to_one_hot (from tensorflow.contrib.learn.python.learn.datasets.mnist) is deprecated and will be removed in a future version.\n",
      "Instructions for updating:\n",
      "Please use tf.one_hot on tensors.\n",
      "Extracting MNIST_data/t10k-images-idx3-ubyte.gz\n",
      "Extracting MNIST_data/t10k-labels-idx1-ubyte.gz\n",
      "WARNING:tensorflow:From C:\\ProgramData\\Anaconda3\\lib\\site-packages\\tensorflow_core\\contrib\\learn\\python\\learn\\datasets\\mnist.py:290: DataSet.__init__ (from tensorflow.contrib.learn.python.learn.datasets.mnist) is deprecated and will be removed in a future version.\n",
      "Instructions for updating:\n",
      "Please use alternatives such as official/mnist/dataset.py from tensorflow/models.\n"
     ]
    }
   ],
   "source": [
    "import tensorflow as tf\n",
    "import matplotlib.pyplot as plt\n",
    "import numpy as np\n",
    "\n",
    "from tensorflow.examples.tutorials.mnist import input_data\n",
    "mnist = input_data.read_data_sets(\"MNIST_data/\", one_hot=True)"
   ]
  },
  {
   "cell_type": "code",
   "execution_count": 2,
   "metadata": {},
   "outputs": [],
   "source": [
    "learning_rate = 0.01\n",
    "total_epoch = 20\n",
    "batch_size = 100\n",
    "n_hidden = 128\n",
    "n_input = 28 * 28"
   ]
  },
  {
   "cell_type": "code",
   "execution_count": 3,
   "metadata": {},
   "outputs": [],
   "source": [
    "X = tf.placeholder(tf.float32, [None, n_input])"
   ]
  },
  {
   "cell_type": "code",
   "execution_count": 5,
   "metadata": {},
   "outputs": [],
   "source": [
    "W_encode1 = tf.Variable(tf.random_normal([n_input, 256]))\n",
    "b_encode1 = tf.Variable(tf.random_normal([256]))\n",
    "encoder1 = tf.nn.sigmoid(tf.add(tf.matmul(X, W_encode1), b_encode1))"
   ]
  },
  {
   "cell_type": "code",
   "execution_count": 7,
   "metadata": {},
   "outputs": [],
   "source": [
    "W_encode2 = tf.Variable(tf.random_normal([256, n_hidden]))\n",
    "b_encode2 = tf.Variable(tf.random_normal([n_hidden]))\n",
    "encoder2 = tf.nn.sigmoid(tf.add(tf.matmul(encoder1, W_encode2), b_encode2))"
   ]
  },
  {
   "cell_type": "code",
   "execution_count": 8,
   "metadata": {},
   "outputs": [],
   "source": [
    "W_decode1 = tf.Variable(tf.random_normal([n_hidden, 256]))\n",
    "b_decode1 = tf.Variable(tf.random_normal([256]))\n",
    "decoder1 = tf.nn.sigmoid(tf.add(tf.matmul(encoder2, W_decode1), b_decode1))"
   ]
  },
  {
   "cell_type": "code",
   "execution_count": 9,
   "metadata": {},
   "outputs": [],
   "source": [
    "W_decode2 = tf.Variable(tf.random_normal([256, n_input]))\n",
    "b_decode2 = tf.Variable(tf.random_normal([n_input]))\n",
    "decoder2 = tf.nn.sigmoid(tf.add(tf.matmul(decoder1, W_decode2), b_decode2))"
   ]
  },
  {
   "cell_type": "code",
   "execution_count": 11,
   "metadata": {},
   "outputs": [
    {
     "name": "stdout",
     "output_type": "stream",
     "text": [
      "WARNING:tensorflow:From C:\\ProgramData\\Anaconda3\\lib\\site-packages\\tensorflow_core\\python\\ops\\math_grad.py:1375: where (from tensorflow.python.ops.array_ops) is deprecated and will be removed in a future version.\n",
      "Instructions for updating:\n",
      "Use tf.where in 2.0, which has the same broadcast rule as np.where\n"
     ]
    }
   ],
   "source": [
    "cost = tf.reduce_mean(tf.pow(X-decoder2,2))\n",
    "optimizer = tf.train.AdamOptimizer(learning_rate).minimize(cost)"
   ]
  },
  {
   "cell_type": "code",
   "execution_count": 12,
   "metadata": {},
   "outputs": [
    {
     "name": "stdout",
     "output_type": "stream",
     "text": [
      "Epoch: 0001 Avg. cost =  0.0954\n",
      "Epoch: 0002 Avg. cost =  0.0723\n",
      "Epoch: 0003 Avg. cost =  0.0675\n",
      "Epoch: 0004 Avg. cost =  0.0641\n",
      "Epoch: 0005 Avg. cost =  0.0617\n",
      "Epoch: 0006 Avg. cost =  0.0587\n",
      "Epoch: 0007 Avg. cost =  0.0562\n",
      "Epoch: 0008 Avg. cost =  0.0544\n",
      "Epoch: 0009 Avg. cost =  0.0538\n",
      "Epoch: 0010 Avg. cost =  0.0532\n",
      "Epoch: 0011 Avg. cost =  0.0528\n",
      "Epoch: 0012 Avg. cost =  0.0525\n",
      "Epoch: 0013 Avg. cost =  0.0511\n",
      "Epoch: 0014 Avg. cost =  0.0509\n",
      "Epoch: 0015 Avg. cost =  0.0507\n",
      "Epoch: 0016 Avg. cost =  0.0503\n",
      "Epoch: 0017 Avg. cost =  0.0501\n",
      "Epoch: 0018 Avg. cost =  0.0499\n",
      "Epoch: 0019 Avg. cost =  0.0488\n",
      "Epoch: 0020 Avg. cost =  0.0478\n",
      "Epoch: 0021 Avg. cost =  0.0462\n",
      "Epoch: 0022 Avg. cost =  0.0460\n",
      "Epoch: 0023 Avg. cost =  0.0455\n",
      "Epoch: 0024 Avg. cost =  0.0453\n",
      "Epoch: 0025 Avg. cost =  0.0451\n",
      "Epoch: 0026 Avg. cost =  0.0449\n",
      "Epoch: 0027 Avg. cost =  0.0444\n",
      "Epoch: 0028 Avg. cost =  0.0442\n",
      "Epoch: 0029 Avg. cost =  0.0441\n",
      "Epoch: 0030 Avg. cost =  0.0440\n",
      "Epoch: 0031 Avg. cost =  0.0438\n",
      "Epoch: 0032 Avg. cost =  0.0438\n",
      "Epoch: 0033 Avg. cost =  0.0437\n",
      "Epoch: 0034 Avg. cost =  0.0437\n",
      "Epoch: 0035 Avg. cost =  0.0435\n",
      "Epoch: 0036 Avg. cost =  0.0435\n",
      "Epoch: 0037 Avg. cost =  0.0435\n",
      "Epoch: 0038 Avg. cost =  0.0435\n",
      "Epoch: 0039 Avg. cost =  0.0434\n",
      "Epoch: 0040 Avg. cost =  0.0434\n",
      "Epoch: 0041 Avg. cost =  0.0433\n",
      "Epoch: 0042 Avg. cost =  0.0433\n",
      "Epoch: 0043 Avg. cost =  0.0433\n",
      "Epoch: 0044 Avg. cost =  0.0431\n",
      "Epoch: 0045 Avg. cost =  0.0433\n",
      "Epoch: 0046 Avg. cost =  0.0431\n",
      "Epoch: 0047 Avg. cost =  0.0431\n",
      "Epoch: 0048 Avg. cost =  0.0431\n",
      "Epoch: 0049 Avg. cost =  0.0431\n",
      "Epoch: 0050 Avg. cost =  0.0430\n",
      "Epoch: 0051 Avg. cost =  0.0430\n",
      "Epoch: 0052 Avg. cost =  0.0430\n",
      "Epoch: 0053 Avg. cost =  0.0430\n",
      "Epoch: 0054 Avg. cost =  0.0429\n",
      "Epoch: 0055 Avg. cost =  0.0430\n",
      "Epoch: 0056 Avg. cost =  0.0429\n",
      "Epoch: 0057 Avg. cost =  0.0429\n",
      "Epoch: 0058 Avg. cost =  0.0429\n",
      "Epoch: 0059 Avg. cost =  0.0429\n",
      "Epoch: 0060 Avg. cost =  0.0428\n",
      "Epoch: 0061 Avg. cost =  0.0428\n",
      "Epoch: 0062 Avg. cost =  0.0428\n",
      "Epoch: 0063 Avg. cost =  0.0428\n",
      "Epoch: 0064 Avg. cost =  0.0427\n",
      "Epoch: 0065 Avg. cost =  0.0427\n",
      "Epoch: 0066 Avg. cost =  0.0427\n",
      "Epoch: 0067 Avg. cost =  0.0427\n",
      "Epoch: 0068 Avg. cost =  0.0427\n",
      "Epoch: 0069 Avg. cost =  0.0427\n",
      "Epoch: 0070 Avg. cost =  0.0427\n",
      "Epoch: 0071 Avg. cost =  0.0426\n",
      "Epoch: 0072 Avg. cost =  0.0426\n",
      "Epoch: 0073 Avg. cost =  0.0426\n",
      "Epoch: 0074 Avg. cost =  0.0426\n",
      "Epoch: 0075 Avg. cost =  0.0426\n",
      "Epoch: 0076 Avg. cost =  0.0426\n",
      "Epoch: 0077 Avg. cost =  0.0426\n",
      "Epoch: 0078 Avg. cost =  0.0425\n",
      "Epoch: 0079 Avg. cost =  0.0425\n",
      "Epoch: 0080 Avg. cost =  0.0425\n",
      "Epoch: 0081 Avg. cost =  0.0425\n",
      "Epoch: 0082 Avg. cost =  0.0425\n",
      "Epoch: 0083 Avg. cost =  0.0424\n",
      "Epoch: 0084 Avg. cost =  0.0425\n",
      "Epoch: 0085 Avg. cost =  0.0424\n",
      "Epoch: 0086 Avg. cost =  0.0424\n",
      "Epoch: 0087 Avg. cost =  0.0424\n",
      "Epoch: 0088 Avg. cost =  0.0425\n",
      "Epoch: 0089 Avg. cost =  0.0424\n",
      "Epoch: 0090 Avg. cost =  0.0424\n",
      "Epoch: 0091 Avg. cost =  0.0424\n",
      "Epoch: 0092 Avg. cost =  0.0424\n",
      "Epoch: 0093 Avg. cost =  0.0424\n",
      "Epoch: 0094 Avg. cost =  0.0423\n",
      "Epoch: 0095 Avg. cost =  0.0424\n",
      "Epoch: 0096 Avg. cost =  0.0423\n",
      "Epoch: 0097 Avg. cost =  0.0423\n",
      "Epoch: 0098 Avg. cost =  0.0423\n",
      "Epoch: 0099 Avg. cost =  0.0423\n",
      "Epoch: 0100 Avg. cost =  0.0423\n",
      "최적화 완료!\n"
     ]
    }
   ],
   "source": [
    "init = tf.global_variables_initializer()\n",
    "sess = tf.Session()\n",
    "sess.run(init)\n",
    "\n",
    "total_batch = int(mnist.train.num_examples / batch_size)\n",
    "\n",
    "for epoch in range(100):\n",
    "    total_cost = 0\n",
    "    \n",
    "    for i in range(total_batch):\n",
    "        batch_xs, batch_ys = mnist.train.next_batch(batch_size)\n",
    "        _, cost_val = sess.run([optimizer, cost], feed_dict={X: batch_xs})\n",
    "        \n",
    "        total_cost += cost_val\n",
    "        \n",
    "    print('Epoch:', '%04d' % (epoch + 1), 'Avg. cost = ', '{:.4f}'.\n",
    "         format(total_cost / total_batch))\n",
    "    \n",
    "print('최적화 완료!')"
   ]
  },
  {
   "cell_type": "code",
   "execution_count": 14,
   "metadata": {},
   "outputs": [
    {
     "data": {
      "image/png": "[encoded data removed]",
      "text/plain": [
       "<Figure size 720x144 with 20 Axes>"
      ]
     },
     "metadata": {
      "needs_background": "light"
     },
     "output_type": "display_data"
    }
   ],
   "source": [
    "sample_size = 10\n",
    "samples = sess.run(decoder2, feed_dict={X: mnist.test.images[:sample_size]})\n",
    "\n",
    "fig, ax = plt.subplots(2, sample_size, figsize=(sample_size, 2))\n",
    "\n",
    "for i in range(sample_size):\n",
    "    ax[0][i].set_axis_off()\n",
    "    ax[1][i].set_axis_off()\n",
    "    ax[0][i].imshow(np.reshape(mnist.test.images[i], (28, 28)))\n",
    "    ax[1][i].imshow(np.reshape(samples[i], (28, 28)))"
   ]
  }
 ],
 "metadata": {
  "kernelspec": {
   "display_name": "Python 3",
   "language": "python",
   "name": "python3"
  },
  "language_info": {
   "codemirror_mode": {
    "name": "ipython",
    "version": 3
   },
   "file_extension": ".py",
   "mimetype": "text/x-python",
   "name": "python",
   "nbconvert_exporter": "python",
   "pygments_lexer": "ipython3",
   "version": "3.7.6"
  }
 },
 "nbformat": 4,
 "nbformat_minor": 4
}
